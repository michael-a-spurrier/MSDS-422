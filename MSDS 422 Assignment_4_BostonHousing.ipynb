{
 "cells": [
  {
   "cell_type": "markdown",
   "metadata": {},
   "source": [
    "### Imports and data prep"
   ]
  },
  {
   "cell_type": "code",
   "execution_count": 13,
   "metadata": {},
   "outputs": [],
   "source": [
    "# seed value for random number generators to obtain reproducible results\n",
    "RANDOM_SEED = 1"
   ]
  },
  {
   "cell_type": "code",
   "execution_count": 14,
   "metadata": {},
   "outputs": [],
   "source": [
    "# although we standardize X and y variables on input,\n",
    "# we will fit the intercept term in the models\n",
    "# Expect fitted values to be close to zero\n",
    "SET_FIT_INTERCEPT = True\n"
   ]
  },
  {
   "cell_type": "code",
   "execution_count": 15,
   "metadata": {},
   "outputs": [],
   "source": [
    "# import base packages into the namespace for this program\n",
    "import numpy as np\n",
    "import pandas as pd\n",
    "\n",
    "# modeling routines from Scikit Learn packages\n",
    "from sklearn.ensemble import RandomForestClassifier\n",
    "from sklearn.datasets import make_classification\n",
    "from sklearn.metrics import mean_squared_error, r2_score\n",
    "from math import sqrt  # for root mean-squared error calculation\n",
    "from sklearn.model_selection import cross_val_score"
   ]
  },
  {
   "cell_type": "code",
   "execution_count": 16,
   "metadata": {},
   "outputs": [],
   "source": [
    "# read data for the Boston Housing Study\n",
    "# creating data frame restdata\n",
    "boston_input = pd.read_csv('boston.csv')"
   ]
  },
  {
   "cell_type": "code",
   "execution_count": 17,
   "metadata": {},
   "outputs": [
    {
     "name": "stdout",
     "output_type": "stream",
     "text": [
      "\n",
      "General description of the boston DataFrame:\n",
      "<class 'pandas.core.frame.DataFrame'>\n",
      "RangeIndex: 506 entries, 0 to 505\n",
      "Data columns (total 13 columns):\n",
      "crim       506 non-null float64\n",
      "zn         506 non-null float64\n",
      "indus      506 non-null float64\n",
      "chas       506 non-null int64\n",
      "nox        506 non-null float64\n",
      "rooms      506 non-null float64\n",
      "age        506 non-null float64\n",
      "dis        506 non-null float64\n",
      "rad        506 non-null int64\n",
      "tax        506 non-null int64\n",
      "ptratio    506 non-null float64\n",
      "lstat      506 non-null float64\n",
      "mv         506 non-null float64\n",
      "dtypes: float64(10), int64(3)\n",
      "memory usage: 51.5 KB\n",
      "None\n"
     ]
    }
   ],
   "source": [
    "# drop neighborhood from the data being considered\n",
    "boston = boston_input.drop('neighborhood', 1)\n",
    "print('\\nGeneral description of the boston DataFrame:')\n",
    "print(boston.info())"
   ]
  },
  {
   "cell_type": "code",
   "execution_count": 18,
   "metadata": {},
   "outputs": [],
   "source": [
    "#Imports for building Model\n",
    "from sklearn.model_selection import train_test_split"
   ]
  },
  {
   "cell_type": "code",
   "execution_count": 19,
   "metadata": {},
   "outputs": [],
   "source": [
    "X = boston.iloc[:,1:-1] #independant variables\n",
    "y = boston.iloc[:,-1] #response variable mv"
   ]
  },
  {
   "cell_type": "code",
   "execution_count": 20,
   "metadata": {},
   "outputs": [],
   "source": [
    "#Split data to test and train data\n",
    "X_train, X_test, y_train, y_test = train_test_split(X, y, test_size = 0.3)"
   ]
  },
  {
   "cell_type": "markdown",
   "metadata": {},
   "source": [
    "### Regression Models from Previous Analysis\n",
    "Linear Regression <br>\n",
    "Ridge Regression <br>\n",
    "Lasso Regression <br>\n",
    "Elastic Net Regression <br>"
   ]
  },
  {
   "cell_type": "code",
   "execution_count": 21,
   "metadata": {},
   "outputs": [],
   "source": [
    "from sklearn.linear_model import LinearRegression\n",
    "#using the log_mv value\n",
    "boston['log_mv'] = np.log10(boston['mv'])\n",
    "log_boston = boston.drop(columns = ['mv'])\n",
    "X2 = log_boston.iloc[:,1:-1] #independant variables\n",
    "y2 = log_boston.iloc[:,-1] #response variable log_mv\n",
    "\n",
    "X_train2, X_test2, y_train2, y_test2 = train_test_split(X2, y2, test_size = 0.3)"
   ]
  },
  {
   "cell_type": "code",
   "execution_count": 22,
   "metadata": {},
   "outputs": [
    {
     "name": "stdout",
     "output_type": "stream",
     "text": [
      "RMSE =  0.2543541086766587\n"
     ]
    }
   ],
   "source": [
    "#Linear Regression Model\n",
    "reg = LinearRegression() \n",
    " \n",
    "# Fitting data\n",
    "reg.fit(X_train2, y_train2)\n",
    "y_pred = reg.predict(X_test2)\n",
    "\n",
    "#evaluating the model using RMSE\n",
    "from sklearn.metrics import mean_absolute_error\n",
    "\n",
    "rmse = sqrt(mean_absolute_error(y_pred, y_test2))\n",
    "print('RMSE = ', rmse)"
   ]
  },
  {
   "cell_type": "code",
   "execution_count": 23,
   "metadata": {},
   "outputs": [
    {
     "name": "stdout",
     "output_type": "stream",
     "text": [
      "Ridge: 0.0854 (0.0045)\n",
      "\n",
      "LASSO: 0.0832 (0.0032)\n",
      "\n",
      "elastic net: 0.0833 (0.0031)\n",
      "\n"
     ]
    }
   ],
   "source": [
    "from sklearn.model_selection import KFold\n",
    "from sklearn.pipeline import make_pipeline\n",
    "from sklearn.preprocessing import RobustScaler\n",
    "from sklearn.linear_model import RidgeCV\n",
    "from sklearn.linear_model import ElasticNetCV\n",
    "from sklearn.linear_model import LassoCV\n",
    "from sklearn.model_selection import cross_val_score\n",
    "\n",
    "X2 = log_boston.drop('log_mv',1)\n",
    "y2 = log_boston['log_mv']\n",
    "\n",
    "kfolds = KFold(n_splits=3, shuffle=True, random_state=42)\n",
    "\n",
    "def rmsle(y2, y_pred):\n",
    "\n",
    "    return np.sqrt(mean_squared_error(y2, y_pred))\n",
    "\n",
    "def cv_rmse(model, X=X):\n",
    "\n",
    "    rmse = np.sqrt(-cross_val_score(model, X2, y2, scoring=\"neg_mean_squared_error\", cv=kfolds))\n",
    "\n",
    "    return (rmse)\n",
    "\n",
    "alphas_alt = [14.5, 14.6, 14.7, 14.8, 14.9, 15, 15.1, 15.2, 15.3, 15.4, 15.5]\n",
    "\n",
    "alphas2 = [5e-05, 0.0001, 0.0002, 0.0003, 0.0004, 0.0005, 0.0006, 0.0007, 0.0008]\n",
    "\n",
    "e_alphas = [0.0001, 0.0002, 0.0003, 0.0004, 0.0005, 0.0006, 0.0007]\n",
    "\n",
    "e_l1ratio = [0.8, 0.85, 0.9, 0.95, 0.99, 1]\n",
    "\n",
    "ridge = make_pipeline(RobustScaler(), RidgeCV(alphas=alphas_alt, cv=kfolds))\n",
    "\n",
    "lasso = make_pipeline(RobustScaler(), LassoCV(max_iter=1e7, alphas=alphas2, random_state=42, cv=kfolds))\n",
    "\n",
    "elasticnet = make_pipeline(RobustScaler(), ElasticNetCV(max_iter=1e7, alphas=e_alphas, cv=kfolds, l1_ratio=e_l1ratio))\n",
    "\n",
    "score = cv_rmse(ridge)\n",
    "\n",
    "print(\"Ridge: {:.4f} ({:.4f})\\n\".format(score.mean(), score.std()))#, datetime.now(), )\n",
    "\n",
    "score = cv_rmse(lasso)\n",
    "\n",
    "print(\"LASSO: {:.4f} ({:.4f})\\n\".format(score.mean(), score.std()))#, datetime.now(), )\n",
    "\n",
    "score = cv_rmse(elasticnet)\n",
    "\n",
    "print(\"elastic net: {:.4f} ({:.4f})\\n\".format(score.mean(), score.std()))#, datetime.now(), )"
   ]
  },
  {
   "cell_type": "markdown",
   "metadata": {},
   "source": [
    "### Random Forest Regression"
   ]
  },
  {
   "cell_type": "code",
   "execution_count": 25,
   "metadata": {},
   "outputs": [],
   "source": [
    "X = boston.iloc[:,1:-1] #independant variables\n",
    "y = boston.iloc[:,-1] #response variable mv\n",
    "\n",
    "#Split data to test and train data\n",
    "X_train, X_test, y_train, y_test = train_test_split(X, y, test_size = 0.3)"
   ]
  },
  {
   "cell_type": "code",
   "execution_count": 26,
   "metadata": {},
   "outputs": [
    {
     "data": {
      "text/plain": [
       "RandomForestRegressor(bootstrap=True, criterion='mse', max_depth=None,\n",
       "           max_features='auto', max_leaf_nodes=None,\n",
       "           min_impurity_decrease=0.0, min_impurity_split=None,\n",
       "           min_samples_leaf=1, min_samples_split=2,\n",
       "           min_weight_fraction_leaf=0.0, n_estimators=500, n_jobs=None,\n",
       "           oob_score=False, random_state=0, verbose=0, warm_start=False)"
      ]
     },
     "execution_count": 26,
     "metadata": {},
     "output_type": "execute_result"
    }
   ],
   "source": [
    "# Fitting the Random Forest Regression to the dataset\n",
    "#Model 1 n_estimators = 500\n",
    "from sklearn.ensemble import RandomForestRegressor\n",
    "regressor_rf = RandomForestRegressor(n_estimators = 500, random_state = 0)\n",
    "regressor_rf.fit(X_train, y_train.ravel())"
   ]
  },
  {
   "cell_type": "code",
   "execution_count": 27,
   "metadata": {},
   "outputs": [
    {
     "name": "stdout",
     "output_type": "stream",
     "text": [
      "CV:  0.9985751812391213\n",
      "R2_score (train):  0.9998854416193441\n",
      "R2_score (test):  0.9996245530082962\n",
      "RMSE:  0.0031455317863541086\n"
     ]
    }
   ],
   "source": [
    "from sklearn.metrics import r2_score\n",
    "\n",
    "# Predicting Cross Validation Score\n",
    "cv_rf = cross_val_score(estimator = regressor_rf, X = X_train, y = y_train.ravel(), cv = 10)\n",
    "\n",
    "# Predicting R2 Score the Train set results\n",
    "y_pred_rf_train = regressor_rf.predict(X_train)\n",
    "r2_score_rf_train = r2_score(y_train, y_pred_rf_train)\n",
    "\n",
    "# Predicting R2 Score the Test set results\n",
    "y_pred_rf_test = regressor_rf.predict(X_test)\n",
    "r2_score_rf_test = r2_score(y_test, y_pred_rf_test)\n",
    "\n",
    "# Predicting RMSE the Test set results\n",
    "rmse_rf = (np.sqrt(mean_squared_error(y_test, y_pred_rf_test)))\n",
    "print('CV: ', cv_rf.mean())\n",
    "print('R2_score (train): ', r2_score_rf_train)\n",
    "print('R2_score (test): ', r2_score_rf_test)\n",
    "print(\"RMSE: \", rmse_rf)"
   ]
  },
  {
   "cell_type": "code",
   "execution_count": 28,
   "metadata": {},
   "outputs": [
    {
     "name": "stdout",
     "output_type": "stream",
     "text": [
      "CV:  0.9985094127005112\n",
      "R2_score (train):  0.9999035399640045\n",
      "R2_score (test):  0.9996161328578809\n",
      "RMSE:  0.003180608633448248\n"
     ]
    }
   ],
   "source": [
    "#RF Model 2 n_estimators = 100\n",
    "regressor_rf2 = RandomForestRegressor(n_estimators = 100, random_state = 0)\n",
    "regressor_rf2.fit(X_train, y_train.ravel())\n",
    "\n",
    "# Predicting Cross Validation Score\n",
    "cv_rf2 = cross_val_score(estimator = regressor_rf2, X = X_train, y = y_train.ravel(), cv = 10)\n",
    "\n",
    "# Predicting R2 Score the Train set results\n",
    "y_pred_rf2_train = regressor_rf2.predict(X_train)\n",
    "r2_score_rf2_train = r2_score(y_train, y_pred_rf2_train)\n",
    "\n",
    "# Predicting R2 Score the Test set results\n",
    "y_pred_rf2_test = regressor_rf2.predict(X_test)\n",
    "r2_score_rf2_test = r2_score(y_test, y_pred_rf2_test)\n",
    "\n",
    "# Predicting RMSE the Test set results\n",
    "rmse_rf2 = (np.sqrt(mean_squared_error(y_test, y_pred_rf2_test)))\n",
    "print('CV: ', cv_rf2.mean())\n",
    "print('R2_score (train): ', r2_score_rf2_train)\n",
    "print('R2_score (test): ', r2_score_rf2_test)\n",
    "print(\"RMSE: \", rmse_rf2)"
   ]
  },
  {
   "cell_type": "code",
   "execution_count": 29,
   "metadata": {},
   "outputs": [
    {
     "name": "stdout",
     "output_type": "stream",
     "text": [
      "CV:  0.9984996551503821\n",
      "R2_score (train):  0.9998950030519018\n",
      "R2_score (test):  0.999627569605834\n",
      "RMSE:  0.0031328696256627602\n"
     ]
    }
   ],
   "source": [
    "#RF Model 3 n_estimators = 200\n",
    "regressor_rf3 = RandomForestRegressor(n_estimators = 200, random_state = 0)\n",
    "regressor_rf3.fit(X_train, y_train.ravel())\n",
    "\n",
    "# Predicting Cross Validation Score\n",
    "cv_rf3 = cross_val_score(estimator = regressor_rf3, X = X_train, y = y_train.ravel(), cv = 10)\n",
    "\n",
    "# Predicting R2 Score the Train set results\n",
    "y_pred_rf3_train = regressor_rf3.predict(X_train)\n",
    "r2_score_rf3_train = r2_score(y_train, y_pred_rf3_train)\n",
    "\n",
    "# Predicting R2 Score the Test set results\n",
    "y_pred_rf3_test = regressor_rf3.predict(X_test)\n",
    "r2_score_rf3_test = r2_score(y_test, y_pred_rf3_test)\n",
    "\n",
    "# Predicting RMSE the Test set results\n",
    "rmse_rf3 = (np.sqrt(mean_squared_error(y_test, y_pred_rf3_test)))\n",
    "print('CV: ', cv_rf3.mean())\n",
    "print('R2_score (train): ', r2_score_rf3_train)\n",
    "print('R2_score (test): ', r2_score_rf3_test)\n",
    "print(\"RMSE: \", rmse_rf3)"
   ]
  },
  {
   "cell_type": "code",
   "execution_count": 30,
   "metadata": {},
   "outputs": [
    {
     "name": "stdout",
     "output_type": "stream",
     "text": [
      "CV:  0.9985705148289726\n",
      "R2_score (train):  0.9998952100126589\n",
      "R2_score (test):  0.999626227146808\n",
      "RMSE:  0.0031385109025110934\n"
     ]
    }
   ],
   "source": [
    "#RF Model 4 n_estimators = 300\n",
    "regressor_rf4 = RandomForestRegressor(n_estimators = 300, random_state = 0)\n",
    "regressor_rf4.fit(X_train, y_train.ravel())\n",
    "\n",
    "# Predicting Cross Validation Score\n",
    "cv_rf4 = cross_val_score(estimator = regressor_rf4, X = X_train, y = y_train.ravel(), cv = 10)\n",
    "\n",
    "# Predicting R2 Score the Train set results\n",
    "y_pred_rf4_train = regressor_rf4.predict(X_train)\n",
    "r2_score_rf4_train = r2_score(y_train, y_pred_rf4_train)\n",
    "\n",
    "# Predicting R2 Score the Test set results\n",
    "y_pred_rf4_test = regressor_rf4.predict(X_test)\n",
    "r2_score_rf4_test = r2_score(y_test, y_pred_rf4_test)\n",
    "\n",
    "# Predicting RMSE the Test set results\n",
    "rmse_rf4 = (np.sqrt(mean_squared_error(y_test, y_pred_rf4_test)))\n",
    "print('CV: ', cv_rf4.mean())\n",
    "print('R2_score (train): ', r2_score_rf4_train)\n",
    "print('R2_score (test): ', r2_score_rf4_test)\n",
    "print(\"RMSE: \", rmse_rf4)"
   ]
  },
  {
   "cell_type": "markdown",
   "metadata": {},
   "source": [
    "### With Boosting"
   ]
  },
  {
   "cell_type": "code",
   "execution_count": 31,
   "metadata": {},
   "outputs": [
    {
     "data": {
      "text/plain": [
       "AdaBoostRegressor(base_estimator=RandomForestRegressor(bootstrap=True, criterion='mse', max_depth=4,\n",
       "           max_features='auto', max_leaf_nodes=None,\n",
       "           min_impurity_decrease=0.0, min_impurity_split=None,\n",
       "           min_samples_leaf=1, min_samples_split=2,\n",
       "           min_weight_fraction_leaf=0.0, n_estimators='warn', n_jobs=None,\n",
       "           oob_score=False, random_state=None, verbose=0, warm_start=False),\n",
       "         learning_rate=1.0, loss='linear', n_estimators=500,\n",
       "         random_state=None)"
      ]
     },
     "execution_count": 31,
     "metadata": {},
     "output_type": "execute_result"
    }
   ],
   "source": [
    "#Removes warnings from AdaBoost Future\n",
    "import warnings\n",
    "warnings.filterwarnings('ignore')\n",
    "#ADA Boost\n",
    "from sklearn.ensemble import AdaBoostRegressor\n",
    "ada_clf = AdaBoostRegressor(\n",
    " RandomForestRegressor(max_depth=4),n_estimators=500)\n",
    "\n",
    "ada_clf.fit(X_train, y_train)"
   ]
  },
  {
   "cell_type": "code",
   "execution_count": 32,
   "metadata": {},
   "outputs": [],
   "source": [
    "#Prediction for ADA Boost\n",
    "adapred = ada_clf.predict(X_test)\n"
   ]
  },
  {
   "cell_type": "code",
   "execution_count": 33,
   "metadata": {},
   "outputs": [
    {
     "name": "stdout",
     "output_type": "stream",
     "text": [
      "CV:  0.9988100916619411\n",
      "R2_score (train):  0.9998643388498313\n",
      "R2_score (test):  0.9997361805577654\n",
      "RMSE:  0.002636775548270784\n"
     ]
    }
   ],
   "source": [
    "# Predicting Cross Validation Score\n",
    "cv_ada = cross_val_score(estimator = ada_clf, X = X_train, y = y_train.ravel(), cv = 10)\n",
    "\n",
    "# Predicting R2 Score the Train set results\n",
    "y_pred_ada_train = ada_clf.predict(X_train)\n",
    "r2_score_ada_train = r2_score(y_train, y_pred_ada_train)\n",
    "\n",
    "# Predicting R2 Score the Test set results\n",
    "y_pred_ada_test = ada_clf.predict(X_test)\n",
    "r2_score_ada_test = r2_score(y_test, y_pred_ada_test)\n",
    "\n",
    "# Predicting RMSE the Test set results\n",
    "rmse_ada = (np.sqrt(mean_squared_error(y_test, y_pred_ada_test)))\n",
    "print('CV: ', cv_ada.mean())\n",
    "print('R2_score (train): ', r2_score_ada_train)\n",
    "print('R2_score (test): ', r2_score_ada_test)\n",
    "print(\"RMSE: \", rmse_ada)"
   ]
  },
  {
   "cell_type": "code",
   "execution_count": 34,
   "metadata": {
    "scrolled": true
   },
   "outputs": [
    {
     "data": {
      "text/plain": [
       "GradientBoostingRegressor(alpha=0.9, criterion='friedman_mse', init=None,\n",
       "             learning_rate=1.0, loss='ls', max_depth=2, max_features=None,\n",
       "             max_leaf_nodes=None, min_impurity_decrease=0.0,\n",
       "             min_impurity_split=None, min_samples_leaf=1,\n",
       "             min_samples_split=2, min_weight_fraction_leaf=0.0,\n",
       "             n_estimators=500, n_iter_no_change=None, presort='auto',\n",
       "             random_state=None, subsample=1.0, tol=0.0001,\n",
       "             validation_fraction=0.1, verbose=0, warm_start=False)"
      ]
     },
     "execution_count": 34,
     "metadata": {},
     "output_type": "execute_result"
    }
   ],
   "source": [
    "#Gradient Boosting model 1\n",
    "from sklearn.ensemble import GradientBoostingRegressor\n",
    "gbrt = GradientBoostingRegressor(max_depth=2, n_estimators=500, learning_rate=1.0)\n",
    "gbrt.fit(X_train, y_train)"
   ]
  },
  {
   "cell_type": "code",
   "execution_count": 35,
   "metadata": {},
   "outputs": [
    {
     "name": "stdout",
     "output_type": "stream",
     "text": [
      "CV:  0.9920790413523155\n",
      "R2_score (train):  0.9999970729387074\n",
      "R2_score (test):  0.9929665635806629\n",
      "RMSE:  0.013614558008778203\n"
     ]
    }
   ],
   "source": [
    "# Predicting Cross Validation Score\n",
    "cv_gbrt = cross_val_score(estimator = gbrt, X = X_train, y = y_train.ravel(), cv = 10)\n",
    "\n",
    "# Predicting R2 Score the Train set results\n",
    "y_pred_gbrt_train = gbrt.predict(X_train)\n",
    "r2_score_gbrt_train = r2_score(y_train, y_pred_gbrt_train)\n",
    "\n",
    "# Predicting R2 Score the Test set results\n",
    "y_pred_gbrt_test = gbrt.predict(X_test)\n",
    "r2_score_gbrt_test = r2_score(y_test, y_pred_gbrt_test)\n",
    "\n",
    "# Predicting RMSE the Test set results\n",
    "rmse_gbrt = (np.sqrt(mean_squared_error(y_test, y_pred_gbrt_test)))\n",
    "print('CV: ', cv_gbrt.mean())\n",
    "print('R2_score (train): ', r2_score_gbrt_train)\n",
    "print('R2_score (test): ', r2_score_gbrt_test)\n",
    "print(\"RMSE: \", rmse_gbrt)"
   ]
  },
  {
   "cell_type": "code",
   "execution_count": 36,
   "metadata": {},
   "outputs": [
    {
     "data": {
      "text/plain": [
       "GradientBoostingRegressor(alpha=0.9, criterion='friedman_mse', init=None,\n",
       "             learning_rate=0.1, loss='ls', max_depth=2, max_features=None,\n",
       "             max_leaf_nodes=None, min_impurity_decrease=0.0,\n",
       "             min_impurity_split=None, min_samples_leaf=1,\n",
       "             min_samples_split=2, min_weight_fraction_leaf=0.0,\n",
       "             n_estimators=74, n_iter_no_change=None, presort='auto',\n",
       "             random_state=None, subsample=1.0, tol=0.0001,\n",
       "             validation_fraction=0.1, verbose=0, warm_start=False)"
      ]
     },
     "execution_count": 36,
     "metadata": {},
     "output_type": "execute_result"
    }
   ],
   "source": [
    "#Gradient boosting model 2\n",
    "#finding the optimal number of trees\n",
    "gbrt2 = GradientBoostingRegressor(max_depth=2, n_estimators=120)\n",
    "gbrt2.fit(X_train, y_train)\n",
    "errors = [mean_squared_error(y_test, y_pred)\n",
    " for y_pred in gbrt2.staged_predict(X_test)]\n",
    "bst_n_estimators = np.argmin(errors)\n",
    "gbrt2_best = GradientBoostingRegressor(max_depth=2,n_estimators=bst_n_estimators)\n",
    "gbrt2_best.fit(X_train, y_train)"
   ]
  },
  {
   "cell_type": "code",
   "execution_count": 37,
   "metadata": {},
   "outputs": [
    {
     "name": "stdout",
     "output_type": "stream",
     "text": [
      "CV:  0.9988385421659765\n",
      "R2_score (train):  0.9998072949207337\n",
      "R2_score (test):  0.9994525270082444\n",
      "RMSE:  0.0037984036390844296\n"
     ]
    }
   ],
   "source": [
    "# Predicting Cross Validation Score\n",
    "cv_gbrt2 = cross_val_score(estimator = gbrt2, X = X_train, y = y_train.ravel(), cv = 10)\n",
    "\n",
    "# Predicting R2 Score the Train set results\n",
    "y_pred_gbrt2_train = gbrt2.predict(X_train)\n",
    "r2_score_gbrt2_train = r2_score(y_train, y_pred_gbrt2_train)\n",
    "\n",
    "# Predicting R2 Score the Test set results\n",
    "y_pred_gbrt2_test = gbrt2.predict(X_test)\n",
    "r2_score_gbrt2_test = r2_score(y_test, y_pred_gbrt2_test)\n",
    "\n",
    "# Predicting RMSE the Test set results\n",
    "rmse_gbrt2 = (np.sqrt(mean_squared_error(y_test, y_pred_gbrt2_test)))\n",
    "print('CV: ', cv_gbrt2.mean())\n",
    "print('R2_score (train): ', r2_score_gbrt2_train)\n",
    "print('R2_score (test): ', r2_score_gbrt2_test)\n",
    "print(\"RMSE: \", rmse_gbrt2)"
   ]
  },
  {
   "cell_type": "markdown",
   "metadata": {},
   "source": [
    "### Comparing Models"
   ]
  },
  {
   "cell_type": "code",
   "execution_count": 38,
   "metadata": {},
   "outputs": [],
   "source": [
    "models = [('Linear Regression', '0.248983'), #rmse_rf, r2_score_linear_train, r2_score_linear_test, cv_rf.mean()),\n",
    "          ('Elastic Net Regression','0.0833'), #rmse_poly2, r2_score_poly2_train, r2_score_poly2_test, cv_poly2.mean()),\n",
    "          ('Ridge Regression','0.0854'),# rmse_ridge, r2_score_ridge_train, r2_score_ridge_test, cv_ridge.mean()),\n",
    "          ('Lasso Regression','0.0832'), #rmse_lasso, r2_score_lasso_train, r2_score_lasso_test, cv_lasso.mean()),\n",
    "          ('GradientBoosting', rmse_gbrt, r2_score_gbrt_train, r2_score_gbrt_test, cv_gbrt.mean()),\n",
    "          ('GradientBoosting_2', rmse_gbrt2, r2_score_gbrt2_train, r2_score_gbrt2_test, cv_gbrt2.mean()),\n",
    "          ('Random Forest Regression', rmse_rf, r2_score_rf_train, r2_score_rf_test, cv_rf.mean()),\n",
    "          ('Random Forest Regression_2', rmse_rf2, r2_score_rf2_train, r2_score_rf2_test, cv_rf2.mean()),\n",
    "          ('Random Forest Regression_3', rmse_rf3, r2_score_rf3_train, r2_score_rf3_test, cv_rf3.mean()),\n",
    "          ('Random Forest Regression_4', rmse_rf4, r2_score_rf4_train, r2_score_rf4_test, cv_rf4.mean()),\n",
    "          ('ADABoosting', rmse_ada, r2_score_ada_train, r2_score_ada_test, cv_ada.mean())   \n",
    "         ]"
   ]
  },
  {
   "cell_type": "code",
   "execution_count": 39,
   "metadata": {},
   "outputs": [
    {
     "data": {
      "text/html": [
       "<div>\n",
       "<style scoped>\n",
       "    .dataframe tbody tr th:only-of-type {\n",
       "        vertical-align: middle;\n",
       "    }\n",
       "\n",
       "    .dataframe tbody tr th {\n",
       "        vertical-align: top;\n",
       "    }\n",
       "\n",
       "    .dataframe thead th {\n",
       "        text-align: right;\n",
       "    }\n",
       "</style>\n",
       "<table border=\"1\" class=\"dataframe\">\n",
       "  <thead>\n",
       "    <tr style=\"text-align: right;\">\n",
       "      <th></th>\n",
       "      <th>Model</th>\n",
       "      <th>RMSE</th>\n",
       "      <th>R2_Score(training)</th>\n",
       "      <th>R2_Score(test)</th>\n",
       "      <th>Cross-Validation</th>\n",
       "    </tr>\n",
       "  </thead>\n",
       "  <tbody>\n",
       "    <tr>\n",
       "      <th>0</th>\n",
       "      <td>Linear Regression</td>\n",
       "      <td>0.248983</td>\n",
       "      <td>NaN</td>\n",
       "      <td>NaN</td>\n",
       "      <td>NaN</td>\n",
       "    </tr>\n",
       "    <tr>\n",
       "      <th>1</th>\n",
       "      <td>Elastic Net Regression</td>\n",
       "      <td>0.0833</td>\n",
       "      <td>NaN</td>\n",
       "      <td>NaN</td>\n",
       "      <td>NaN</td>\n",
       "    </tr>\n",
       "    <tr>\n",
       "      <th>2</th>\n",
       "      <td>Ridge Regression</td>\n",
       "      <td>0.0854</td>\n",
       "      <td>NaN</td>\n",
       "      <td>NaN</td>\n",
       "      <td>NaN</td>\n",
       "    </tr>\n",
       "    <tr>\n",
       "      <th>3</th>\n",
       "      <td>Lasso Regression</td>\n",
       "      <td>0.0832</td>\n",
       "      <td>NaN</td>\n",
       "      <td>NaN</td>\n",
       "      <td>NaN</td>\n",
       "    </tr>\n",
       "    <tr>\n",
       "      <th>4</th>\n",
       "      <td>GradientBoosting</td>\n",
       "      <td>0.0136146</td>\n",
       "      <td>0.999997</td>\n",
       "      <td>0.992967</td>\n",
       "      <td>0.992079</td>\n",
       "    </tr>\n",
       "    <tr>\n",
       "      <th>5</th>\n",
       "      <td>GradientBoosting_2</td>\n",
       "      <td>0.0037984</td>\n",
       "      <td>0.999807</td>\n",
       "      <td>0.999453</td>\n",
       "      <td>0.998839</td>\n",
       "    </tr>\n",
       "    <tr>\n",
       "      <th>6</th>\n",
       "      <td>Random Forest Regression</td>\n",
       "      <td>0.00314553</td>\n",
       "      <td>0.999885</td>\n",
       "      <td>0.999625</td>\n",
       "      <td>0.998575</td>\n",
       "    </tr>\n",
       "    <tr>\n",
       "      <th>7</th>\n",
       "      <td>Random Forest Regression_2</td>\n",
       "      <td>0.00318061</td>\n",
       "      <td>0.999904</td>\n",
       "      <td>0.999616</td>\n",
       "      <td>0.998509</td>\n",
       "    </tr>\n",
       "    <tr>\n",
       "      <th>8</th>\n",
       "      <td>Random Forest Regression_3</td>\n",
       "      <td>0.00313287</td>\n",
       "      <td>0.999895</td>\n",
       "      <td>0.999628</td>\n",
       "      <td>0.998500</td>\n",
       "    </tr>\n",
       "    <tr>\n",
       "      <th>9</th>\n",
       "      <td>Random Forest Regression_4</td>\n",
       "      <td>0.00313851</td>\n",
       "      <td>0.999895</td>\n",
       "      <td>0.999626</td>\n",
       "      <td>0.998571</td>\n",
       "    </tr>\n",
       "    <tr>\n",
       "      <th>10</th>\n",
       "      <td>ADABoosting</td>\n",
       "      <td>0.00263678</td>\n",
       "      <td>0.999864</td>\n",
       "      <td>0.999736</td>\n",
       "      <td>0.998810</td>\n",
       "    </tr>\n",
       "  </tbody>\n",
       "</table>\n",
       "</div>"
      ],
      "text/plain": [
       "                         Model        RMSE  R2_Score(training)  \\\n",
       "0            Linear Regression    0.248983                 NaN   \n",
       "1       Elastic Net Regression      0.0833                 NaN   \n",
       "2             Ridge Regression      0.0854                 NaN   \n",
       "3             Lasso Regression      0.0832                 NaN   \n",
       "4             GradientBoosting   0.0136146            0.999997   \n",
       "5           GradientBoosting_2   0.0037984            0.999807   \n",
       "6     Random Forest Regression  0.00314553            0.999885   \n",
       "7   Random Forest Regression_2  0.00318061            0.999904   \n",
       "8   Random Forest Regression_3  0.00313287            0.999895   \n",
       "9   Random Forest Regression_4  0.00313851            0.999895   \n",
       "10                 ADABoosting  0.00263678            0.999864   \n",
       "\n",
       "    R2_Score(test)  Cross-Validation  \n",
       "0              NaN               NaN  \n",
       "1              NaN               NaN  \n",
       "2              NaN               NaN  \n",
       "3              NaN               NaN  \n",
       "4         0.992967          0.992079  \n",
       "5         0.999453          0.998839  \n",
       "6         0.999625          0.998575  \n",
       "7         0.999616          0.998509  \n",
       "8         0.999628          0.998500  \n",
       "9         0.999626          0.998571  \n",
       "10        0.999736          0.998810  "
      ]
     },
     "execution_count": 39,
     "metadata": {},
     "output_type": "execute_result"
    }
   ],
   "source": [
    "predict = pd.DataFrame(data = models, columns=['Model', 'RMSE', 'R2_Score(training)', 'R2_Score(test)', 'Cross-Validation'])\n",
    "predict"
   ]
  },
  {
   "cell_type": "code",
   "execution_count": null,
   "metadata": {},
   "outputs": [],
   "source": [
    "###try using fewer trees to compare as well 50 or 75###"
   ]
  },
  {
   "cell_type": "markdown",
   "metadata": {},
   "source": [
    "### Feature Importance"
   ]
  },
  {
   "cell_type": "code",
   "execution_count": 40,
   "metadata": {},
   "outputs": [],
   "source": [
    "#Measuring which Variables are most important for RF_1\n",
    "importances = regressor_rf.feature_importances_\n",
    "std = np.std([tree.feature_importances_ for tree in regressor_rf.estimators_],\n",
    "             axis=0)\n",
    "indices = np.argsort(importances)[::-1]"
   ]
  },
  {
   "cell_type": "code",
   "execution_count": 41,
   "metadata": {},
   "outputs": [
    {
     "name": "stdout",
     "output_type": "stream",
     "text": [
      "1. feature 11 (0.998867)\n",
      "2. feature 6 (0.000375)\n",
      "3. feature 4 (0.000284)\n",
      "4. feature 5 (0.000169)\n",
      "5. feature 10 (0.000107)\n",
      "6. feature 9 (0.000057)\n",
      "7. feature 3 (0.000049)\n",
      "8. feature 8 (0.000029)\n",
      "9. feature 1 (0.000027)\n",
      "10. feature 7 (0.000023)\n",
      "11. feature 0 (0.000012)\n",
      "12. feature 2 (0.000001)\n"
     ]
    },
    {
     "data": {
      "image/png": "[encoded data removed]",
      "text/plain": [
       "<Figure size 432x288 with 1 Axes>"
      ]
     },
     "metadata": {
      "needs_background": "light"
     },
     "output_type": "display_data"
    }
   ],
   "source": [
    "import numpy as np\n",
    "import matplotlib.pyplot as plt\n",
    "%matplotlib inline\n",
    "for f in range(X.shape[1]):\n",
    "    print(\"%d. feature %d (%f)\" % (f + 1, indices[f], importances[indices[f]]))\n",
    "\n",
    "# Plot the feature importances of the forest\n",
    "plt.figure()\n",
    "plt.title(\"Feature importances\")\n",
    "plt.bar(range(X.shape[1]), importances[indices],\n",
    "       color=\"r\", yerr=std[indices], align=\"center\")\n",
    "plt.xticks(range(X.shape[1]), indices)\n",
    "plt.xlim([-1, X.shape[1]])\n",
    "plt.show()"
   ]
  },
  {
   "cell_type": "code",
   "execution_count": 42,
   "metadata": {},
   "outputs": [
    {
     "name": "stdout",
     "output_type": "stream",
     "text": [
      "1. feature 11 (0.998643)\n",
      "2. feature 4 (0.000511)\n",
      "3. feature 6 (0.000351)\n",
      "4. feature 5 (0.000149)\n",
      "5. feature 10 (0.000136)\n",
      "6. feature 3 (0.000085)\n",
      "7. feature 9 (0.000037)\n",
      "8. feature 8 (0.000032)\n",
      "9. feature 1 (0.000029)\n",
      "10. feature 7 (0.000016)\n",
      "11. feature 0 (0.000011)\n",
      "12. feature 2 (0.000001)\n"
     ]
    },
    {
     "data": {
      "image/png": "[encoded data removed]",
      "text/plain": [
       "<Figure size 432x288 with 1 Axes>"
      ]
     },
     "metadata": {
      "needs_background": "light"
     },
     "output_type": "display_data"
    }
   ],
   "source": [
    "#regressor_rf2\n",
    "importances = regressor_rf2.feature_importances_\n",
    "std = np.std([tree.feature_importances_ for tree in regressor_rf2.estimators_],\n",
    "             axis=0)\n",
    "indices = np.argsort(importances)[::-1]\n",
    "\n",
    "for f in range(X.shape[1]):\n",
    "    print(\"%d. feature %d (%f)\" % (f + 1, indices[f], importances[indices[f]]))\n",
    "\n",
    "# Plot the feature importances of the forest\n",
    "plt.figure()\n",
    "plt.title(\"Feature importances\")\n",
    "plt.bar(range(X.shape[1]), importances[indices],\n",
    "       color=\"r\", yerr=std[indices], align=\"center\")\n",
    "plt.xticks(range(X.shape[1]), indices)\n",
    "plt.xlim([-1, X.shape[1]])\n",
    "plt.show()"
   ]
  },
  {
   "cell_type": "code",
   "execution_count": 43,
   "metadata": {},
   "outputs": [
    {
     "name": "stdout",
     "output_type": "stream",
     "text": [
      "1. feature 11 (0.998589)\n",
      "2. feature 6 (0.000744)\n",
      "3. feature 5 (0.000358)\n",
      "4. feature 4 (0.000226)\n",
      "5. feature 10 (0.000032)\n",
      "6. feature 3 (0.000014)\n",
      "7. feature 7 (0.000013)\n",
      "8. feature 9 (0.000010)\n",
      "9. feature 8 (0.000006)\n",
      "10. feature 1 (0.000005)\n",
      "11. feature 0 (0.000002)\n",
      "12. feature 2 (0.000000)\n"
     ]
    },
    {
     "data": {
      "image/png": "[encoded data removed]",
      "text/plain": [
       "<Figure size 432x288 with 1 Axes>"
      ]
     },
     "metadata": {
      "needs_background": "light"
     },
     "output_type": "display_data"
    }
   ],
   "source": [
    "#ada_clf\n",
    "importances = ada_clf.feature_importances_\n",
    "std = np.std([tree.feature_importances_ for tree in ada_clf.estimators_],\n",
    "             axis=0)\n",
    "indices = np.argsort(importances)[::-1]\n",
    "\n",
    "for f in range(X.shape[1]):\n",
    "    print(\"%d. feature %d (%f)\" % (f + 1, indices[f], importances[indices[f]]))\n",
    "\n",
    "# Plot the feature importances of the forest\n",
    "plt.figure()\n",
    "plt.title(\"Feature importances\")\n",
    "plt.bar(range(X.shape[1]), importances[indices],\n",
    "       color=\"r\", yerr=std[indices], align=\"center\")\n",
    "plt.xticks(range(X.shape[1]), indices)\n",
    "plt.xlim([-1, X.shape[1]])\n",
    "plt.show()"
   ]
  },
  {
   "cell_type": "code",
   "execution_count": null,
   "metadata": {},
   "outputs": [],
   "source": [
    "#Feature 11: lstat Percentage of population of lower socio-economic status is the highest indicator of home value for all models it appears\n"
   ]
  },
  {
   "cell_type": "code",
   "execution_count": null,
   "metadata": {},
   "outputs": [],
   "source": []
  }
 ],
 "metadata": {
  "kernelspec": {
   "display_name": "Python 3",
   "language": "python",
   "name": "python3"
  },
  "language_info": {
   "codemirror_mode": {
    "name": "ipython",
    "version": 3
   },
   "file_extension": ".py",
   "mimetype": "text/x-python",
   "name": "python",
   "nbconvert_exporter": "python",
   "pygments_lexer": "ipython3",
   "version": "3.7.3"
  }
 },
 "nbformat": 4,
 "nbformat_minor": 2
}
