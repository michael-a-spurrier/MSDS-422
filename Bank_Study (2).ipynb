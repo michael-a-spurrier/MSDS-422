{
 "cells": [
  {
   "cell_type": "code",
   "execution_count": 2,
   "metadata": {},
   "outputs": [
    {
     "name": "stdout",
     "output_type": "stream",
     "text": [
      "C:\\Users\\mspurrie\\Desktop\\Python Scripts\n"
     ]
    }
   ],
   "source": [
    "%cd \"C:\\Users\\mspurrie\\Desktop\\Python Scripts\\\""
   ]
  },
  {
   "cell_type": "code",
   "execution_count": 27,
   "metadata": {},
   "outputs": [],
   "source": [
    "import matplotlib.pyplot as plt\n",
    "import seaborn as sns\n",
    "%matplotlib inline\n",
    "import warnings\n",
    "warnings.filterwarnings('ignore')"
   ]
  },
  {
   "cell_type": "code",
   "execution_count": 3,
   "metadata": {},
   "outputs": [],
   "source": [
    "# Jump-Start for the Bank Marketing Study\n",
    "# as described in Marketing Data Science: Modeling Techniques\n",
    "# for Predictive Analytics with R and Python (Miller 2015)\n",
    "\n",
    "# jump-start code revised by Thomas W. Milller (2018/10/07)\n",
    "\n",
    "# Scikit Learn documentation for this assignment:\n",
    "# http://scikit-learn.org/stable/auto_examples/classification/\n",
    "#   plot_classifier_comparison.html\n",
    "# http://scikit-learn.org/stable/modules/generated/\n",
    "#   sklearn.naive_bayes.BernoulliNB.html#sklearn.naive_bayes.BernoulliNB.score\n",
    "# http://scikit-learn.org/stable/modules/generated/\n",
    "#   sklearn.linear_model.LogisticRegression.html\n",
    "# http://scikit-learn.org/stable/modules/model_evaluation.html \n",
    "# http://scikit-learn.org/stable/modules/generated/\n",
    "#  sklearn.model_selection.KFold.html\n",
    "\n",
    "# prepare for Python version 3x features and functions\n",
    "# comment out for Python 3.x execution\n",
    "# from __future__ import division, print_function\n",
    "# from future_builtins import ascii, filter, hex, map, oct, zip\n",
    "\n",
    "# seed value for random number generators to obtain reproducible results\n",
    "RANDOM_SEED = 1"
   ]
  },
  {
   "cell_type": "code",
   "execution_count": 13,
   "metadata": {},
   "outputs": [],
   "source": [
    "# import base packages into the namespace for this program\n",
    "import numpy as np\n",
    "import pandas as pd"
   ]
  },
  {
   "cell_type": "code",
   "execution_count": 16,
   "metadata": {},
   "outputs": [
    {
     "name": "stdout",
     "output_type": "stream",
     "text": [
      "(4521, 17)\n"
     ]
    }
   ],
   "source": [
    "# initial work with the smaller data set\n",
    "bank = pd.read_csv('bank.csv', sep = ';')  # start with smaller data set\n",
    "# examine the shape of original input data\n",
    "print(bank.shape)"
   ]
  },
  {
   "cell_type": "code",
   "execution_count": 17,
   "metadata": {},
   "outputs": [
    {
     "name": "stdout",
     "output_type": "stream",
     "text": [
      "(4521, 17)\n"
     ]
    }
   ],
   "source": [
    "# drop observations with missing data, if any\n",
    "bank.dropna()\n",
    "# examine the shape of input data after dropping missing data\n",
    "print(bank.shape)"
   ]
  },
  {
   "cell_type": "code",
   "execution_count": 18,
   "metadata": {},
   "outputs": [
    {
     "data": {
      "text/plain": [
       "['age',\n",
       " 'job',\n",
       " 'marital',\n",
       " 'education',\n",
       " 'default',\n",
       " 'balance',\n",
       " 'housing',\n",
       " 'loan',\n",
       " 'contact',\n",
       " 'day',\n",
       " 'month',\n",
       " 'duration',\n",
       " 'campaign',\n",
       " 'pdays',\n",
       " 'previous',\n",
       " 'poutcome',\n",
       " 'response']"
      ]
     },
     "execution_count": 18,
     "metadata": {},
     "output_type": "execute_result"
    }
   ],
   "source": [
    "# look at the list of column names, note that y is the response\n",
    "list(bank.columns.values)"
   ]
  },
  {
   "cell_type": "code",
   "execution_count": 19,
   "metadata": {},
   "outputs": [
    {
     "data": {
      "text/html": [
       "<div>\n",
       "<style scoped>\n",
       "    .dataframe tbody tr th:only-of-type {\n",
       "        vertical-align: middle;\n",
       "    }\n",
       "\n",
       "    .dataframe tbody tr th {\n",
       "        vertical-align: top;\n",
       "    }\n",
       "\n",
       "    .dataframe thead th {\n",
       "        text-align: right;\n",
       "    }\n",
       "</style>\n",
       "<table border=\"1\" class=\"dataframe\">\n",
       "  <thead>\n",
       "    <tr style=\"text-align: right;\">\n",
       "      <th></th>\n",
       "      <th>age</th>\n",
       "      <th>job</th>\n",
       "      <th>marital</th>\n",
       "      <th>education</th>\n",
       "      <th>default</th>\n",
       "      <th>balance</th>\n",
       "      <th>housing</th>\n",
       "      <th>loan</th>\n",
       "      <th>contact</th>\n",
       "      <th>day</th>\n",
       "      <th>month</th>\n",
       "      <th>duration</th>\n",
       "      <th>campaign</th>\n",
       "      <th>pdays</th>\n",
       "      <th>previous</th>\n",
       "      <th>poutcome</th>\n",
       "      <th>response</th>\n",
       "    </tr>\n",
       "  </thead>\n",
       "  <tbody>\n",
       "    <tr>\n",
       "      <td>0</td>\n",
       "      <td>30</td>\n",
       "      <td>unemployed</td>\n",
       "      <td>married</td>\n",
       "      <td>primary</td>\n",
       "      <td>no</td>\n",
       "      <td>1787</td>\n",
       "      <td>no</td>\n",
       "      <td>no</td>\n",
       "      <td>cellular</td>\n",
       "      <td>19</td>\n",
       "      <td>oct</td>\n",
       "      <td>79</td>\n",
       "      <td>1</td>\n",
       "      <td>-1</td>\n",
       "      <td>0</td>\n",
       "      <td>unknown</td>\n",
       "      <td>no</td>\n",
       "    </tr>\n",
       "    <tr>\n",
       "      <td>1</td>\n",
       "      <td>33</td>\n",
       "      <td>services</td>\n",
       "      <td>married</td>\n",
       "      <td>secondary</td>\n",
       "      <td>no</td>\n",
       "      <td>4789</td>\n",
       "      <td>yes</td>\n",
       "      <td>yes</td>\n",
       "      <td>cellular</td>\n",
       "      <td>11</td>\n",
       "      <td>may</td>\n",
       "      <td>220</td>\n",
       "      <td>1</td>\n",
       "      <td>339</td>\n",
       "      <td>4</td>\n",
       "      <td>failure</td>\n",
       "      <td>no</td>\n",
       "    </tr>\n",
       "    <tr>\n",
       "      <td>2</td>\n",
       "      <td>35</td>\n",
       "      <td>management</td>\n",
       "      <td>single</td>\n",
       "      <td>tertiary</td>\n",
       "      <td>no</td>\n",
       "      <td>1350</td>\n",
       "      <td>yes</td>\n",
       "      <td>no</td>\n",
       "      <td>cellular</td>\n",
       "      <td>16</td>\n",
       "      <td>apr</td>\n",
       "      <td>185</td>\n",
       "      <td>1</td>\n",
       "      <td>330</td>\n",
       "      <td>1</td>\n",
       "      <td>failure</td>\n",
       "      <td>no</td>\n",
       "    </tr>\n",
       "    <tr>\n",
       "      <td>3</td>\n",
       "      <td>30</td>\n",
       "      <td>management</td>\n",
       "      <td>married</td>\n",
       "      <td>tertiary</td>\n",
       "      <td>no</td>\n",
       "      <td>1476</td>\n",
       "      <td>yes</td>\n",
       "      <td>yes</td>\n",
       "      <td>unknown</td>\n",
       "      <td>3</td>\n",
       "      <td>jun</td>\n",
       "      <td>199</td>\n",
       "      <td>4</td>\n",
       "      <td>-1</td>\n",
       "      <td>0</td>\n",
       "      <td>unknown</td>\n",
       "      <td>no</td>\n",
       "    </tr>\n",
       "    <tr>\n",
       "      <td>4</td>\n",
       "      <td>59</td>\n",
       "      <td>blue-collar</td>\n",
       "      <td>married</td>\n",
       "      <td>secondary</td>\n",
       "      <td>no</td>\n",
       "      <td>0</td>\n",
       "      <td>yes</td>\n",
       "      <td>no</td>\n",
       "      <td>unknown</td>\n",
       "      <td>5</td>\n",
       "      <td>may</td>\n",
       "      <td>226</td>\n",
       "      <td>1</td>\n",
       "      <td>-1</td>\n",
       "      <td>0</td>\n",
       "      <td>unknown</td>\n",
       "      <td>no</td>\n",
       "    </tr>\n",
       "  </tbody>\n",
       "</table>\n",
       "</div>"
      ],
      "text/plain": [
       "   age          job  marital  education default  balance housing loan  \\\n",
       "0   30   unemployed  married    primary      no     1787      no   no   \n",
       "1   33     services  married  secondary      no     4789     yes  yes   \n",
       "2   35   management   single   tertiary      no     1350     yes   no   \n",
       "3   30   management  married   tertiary      no     1476     yes  yes   \n",
       "4   59  blue-collar  married  secondary      no        0     yes   no   \n",
       "\n",
       "    contact  day month  duration  campaign  pdays  previous poutcome response  \n",
       "0  cellular   19   oct        79         1     -1         0  unknown       no  \n",
       "1  cellular   11   may       220         1    339         4  failure       no  \n",
       "2  cellular   16   apr       185         1    330         1  failure       no  \n",
       "3   unknown    3   jun       199         4     -1         0  unknown       no  \n",
       "4   unknown    5   may       226         1     -1         0  unknown       no  "
      ]
     },
     "execution_count": 19,
     "metadata": {},
     "output_type": "execute_result"
    }
   ],
   "source": [
    "# look at the beginning of the DataFrame\n",
    "bank.head()"
   ]
  },
  {
   "cell_type": "code",
   "execution_count": 20,
   "metadata": {},
   "outputs": [],
   "source": [
    "# mapping function to convert text no/yes to integer 0/1\n",
    "convert_to_binary = {'no' : 0, 'yes' : 1}"
   ]
  },
  {
   "cell_type": "code",
   "execution_count": 21,
   "metadata": {},
   "outputs": [],
   "source": [
    "# define binary variable for having credit in default\n",
    "default = bank['default'].map(convert_to_binary)"
   ]
  },
  {
   "cell_type": "code",
   "execution_count": 22,
   "metadata": {},
   "outputs": [],
   "source": [
    "# define binary variable for having a mortgage or housing loan\n",
    "housing = bank['housing'].map(convert_to_binary)"
   ]
  },
  {
   "cell_type": "code",
   "execution_count": 23,
   "metadata": {},
   "outputs": [],
   "source": [
    "# define binary variable for having a personal loan\n",
    "loan = bank['loan'].map(convert_to_binary)"
   ]
  },
  {
   "cell_type": "code",
   "execution_count": 24,
   "metadata": {},
   "outputs": [],
   "source": [
    "# define response variable to use in the model\n",
    "response = bank['response'].map(convert_to_binary)"
   ]
  },
  {
   "cell_type": "code",
   "execution_count": 25,
   "metadata": {},
   "outputs": [],
   "source": [
    "# gather three explanatory variables and response into a numpy array \n",
    "# here we use .T to obtain the transpose for the structure we want\n",
    "model_data = np.array([np.array(default), np.array(housing), np.array(loan), \n",
    "    np.array(response)]).T"
   ]
  },
  {
   "cell_type": "code",
   "execution_count": 26,
   "metadata": {},
   "outputs": [
    {
     "name": "stdout",
     "output_type": "stream",
     "text": [
      "(4521, 4)\n"
     ]
    }
   ],
   "source": [
    "# examine the shape of model_data, which we will use in subsequent modeling\n",
    "print(model_data.shape)"
   ]
  },
  {
   "cell_type": "code",
   "execution_count": 40,
   "metadata": {},
   "outputs": [],
   "source": [
    "#sns.pairplot(data = bank)"
   ]
  },
  {
   "cell_type": "code",
   "execution_count": null,
   "metadata": {},
   "outputs": [],
   "source": []
  },
  {
   "cell_type": "code",
   "execution_count": null,
   "metadata": {},
   "outputs": [],
   "source": []
  },
  {
   "cell_type": "code",
   "execution_count": null,
   "metadata": {},
   "outputs": [],
   "source": []
  },
  {
   "cell_type": "code",
   "execution_count": null,
   "metadata": {},
   "outputs": [],
   "source": []
  },
  {
   "cell_type": "code",
   "execution_count": null,
   "metadata": {},
   "outputs": [],
   "source": []
  },
  {
   "cell_type": "code",
   "execution_count": 85,
   "metadata": {},
   "outputs": [
    {
     "name": "stdout",
     "output_type": "stream",
     "text": [
      "(4521, 4)\n"
     ]
    }
   ],
   "source": [
    "print(model_data.shape)"
   ]
  },
  {
   "cell_type": "code",
   "execution_count": 82,
   "metadata": {},
   "outputs": [
    {
     "name": "stdout",
     "output_type": "stream",
     "text": [
      "(1357, 2)\n"
     ]
    }
   ],
   "source": [
    "print(X_test.shape)"
   ]
  },
  {
   "cell_type": "code",
   "execution_count": 64,
   "metadata": {},
   "outputs": [],
   "source": [
    "model_df = pd.DataFrame(model_data)"
   ]
  },
  {
   "cell_type": "code",
   "execution_count": 80,
   "metadata": {},
   "outputs": [],
   "source": [
    "#convertive model_data to dataframe to separate response and independant variables\n",
    "X = model_df.iloc[:,1:-1] #independant variables\n",
    "y = model_df.iloc[:,-1] #response variable"
   ]
  },
  {
   "cell_type": "code",
   "execution_count": null,
   "metadata": {},
   "outputs": [],
   "source": [
    "#trying to to the split using indices for the model_data array\n",
    "X_train, X_test, y_train, y_test = X[:60000], X[60000:], y[:60000], y[60000:]"
   ]
  },
  {
   "cell_type": "code",
   "execution_count": null,
   "metadata": {},
   "outputs": [],
   "source": []
  },
  {
   "cell_type": "code",
   "execution_count": 90,
   "metadata": {},
   "outputs": [],
   "source": [
    "#split into train and test data\n",
    "from sklearn.model_selection import train_test_split\n",
    "X_train, X_test, y_train, y_test = train_test_split(model_data, response, test_size = 0.3, random_state = 101)\n",
    "\n",
    "#imports for model creation\n",
    "from sklearn.model_selection import KFold\n",
    "from sklearn.model_selection import cross_val_score\n",
    "from sklearn.metrics import confusion_matrix, accuracy_score\n",
    "k_fold = KFold(n_splits=10, shuffle=True, random_state=0)"
   ]
  },
  {
   "cell_type": "code",
   "execution_count": 91,
   "metadata": {},
   "outputs": [
    {
     "name": "stdout",
     "output_type": "stream",
     "text": [
      "[[1202    0]\n",
      " [   0  155]]\n",
      "100.0\n"
     ]
    }
   ],
   "source": [
    "#logistic regression\n",
    "from sklearn.linear_model import LogisticRegression\n",
    "logmodel = LogisticRegression() \n",
    "logmodel.fit(X_train,y_train)\n",
    "logpred = logmodel.predict(X_test)\n",
    "\n",
    "\n",
    "print(confusion_matrix(y_test, logpred))\n",
    "print(round(accuracy_score(y_test, logpred),2)*100)\n",
    "LOGCV = (cross_val_score(logmodel, X_train, y_train, cv=k_fold, n_jobs=1, scoring = 'accuracy').mean())"
   ]
  },
  {
   "cell_type": "markdown",
   "metadata": {},
   "source": [
    "### Precision, Recall and ROC"
   ]
  },
  {
   "cell_type": "code",
   "execution_count": 75,
   "metadata": {},
   "outputs": [
    {
     "name": "stdout",
     "output_type": "stream",
     "text": [
      "precision  0.0\n",
      "recall  0.0\n"
     ]
    }
   ],
   "source": [
    "from sklearn.metrics import precision_score, recall_score\n",
    "print('precision ', precision_score(y_test, logpred))\n",
    "\n",
    "print('recall ', recall_score(y_test, logpred))"
   ]
  },
  {
   "cell_type": "code",
   "execution_count": 76,
   "metadata": {},
   "outputs": [
    {
     "name": "stdout",
     "output_type": "stream",
     "text": [
      "f1_score  0.0\n"
     ]
    }
   ],
   "source": [
    "#F1 score, combining Precision and Recall\n",
    "from sklearn.metrics import f1_score\n",
    "print('f1_score ', f1_score(y_test, logpred))"
   ]
  },
  {
   "cell_type": "code",
   "execution_count": 70,
   "metadata": {},
   "outputs": [],
   "source": [
    "from sklearn.metrics import precision_recall_curve\n",
    "precisions, recalls, thresholds = precision_recall_curve(y_test, logpred)"
   ]
  },
  {
   "cell_type": "code",
   "execution_count": 71,
   "metadata": {},
   "outputs": [
    {
     "data": {
      "image/png": "[encoded data removed]",
      "text/plain": [
       "<Figure size 432x288 with 1 Axes>"
      ]
     },
     "metadata": {
      "needs_background": "light"
     },
     "output_type": "display_data"
    }
   ],
   "source": [
    "def plot_precision_recall_vs_threshold(precisions, recalls, thresholds):\n",
    "    plt.plot(thresholds, precisions[:-1], \"b--\", label=\"Precision\")\n",
    "    plt.plot(thresholds, recalls[:-1], \"g-\", label=\"Recall\")\n",
    "    plt.xlabel(\"Threshold\")\n",
    "    plt.legend(loc=\"upper left\")\n",
    "    plt.ylim([0, 1])\n",
    "\n",
    "plot_precision_recall_vs_threshold(precisions, recalls, thresholds)\n",
    "plt.show()\n"
   ]
  },
  {
   "cell_type": "code",
   "execution_count": 72,
   "metadata": {},
   "outputs": [],
   "source": [
    "#ROC\n",
    "from sklearn.metrics import roc_curve\n",
    "fpr, tpr, thresholds = roc_curve(y_test, logpred)"
   ]
  },
  {
   "cell_type": "code",
   "execution_count": 73,
   "metadata": {},
   "outputs": [
    {
     "data": {
      "image/png": "[encoded data removed]",
      "text/plain": [
       "<Figure size 432x288 with 1 Axes>"
      ]
     },
     "metadata": {
      "needs_background": "light"
     },
     "output_type": "display_data"
    }
   ],
   "source": [
    "#plot of the ROC curve\n",
    "def plot_roc_curve(fpr, tpr, label=None):\n",
    "    plt.plot(fpr, tpr, linewidth=2, label=label)\n",
    "    plt.plot([0, 1], [0, 1], 'k--')\n",
    "    plt.axis([0, 1, 0, 1])\n",
    "    plt.xlabel('False Positive Rate')\n",
    "    plt.ylabel('True Positive Rate')\n",
    "\n",
    "plot_roc_curve(fpr, tpr)\n",
    "plt.show()"
   ]
  },
  {
   "cell_type": "markdown",
   "metadata": {},
   "source": [
    "## From code examples online - this seems to work correctly"
   ]
  },
  {
   "cell_type": "code",
   "execution_count": 92,
   "metadata": {},
   "outputs": [],
   "source": [
    "# shuffle the rows \n",
    "np.random.seed(RANDOM_SEED)\n",
    "np.random.shuffle(model_data)"
   ]
  },
  {
   "cell_type": "code",
   "execution_count": 94,
   "metadata": {},
   "outputs": [],
   "source": [
    "from sklearn.naive_bayes import BernoulliNB\n",
    "from sklearn.metrics import roc_auc_score  "
   ]
  },
  {
   "cell_type": "code",
   "execution_count": 95,
   "metadata": {},
   "outputs": [],
   "source": [
    "# list of names for classifier models\n",
    "classifier_names = [\"Logistic_Regression\", \"Naive_Bayes\"]\n",
    "\n",
    "# list of classifiers\n",
    "classifiers = [LogisticRegression(), BernoulliNB(alpha=1.0, binarize=0.5, \n",
    "                           class_prior = [0.5, 0.5], fit_prior=False)]"
   ]
  },
  {
   "cell_type": "code",
   "execution_count": 96,
   "metadata": {},
   "outputs": [],
   "source": [
    "# ten-fold cross-validation employed here\n",
    "N_FOLDS = 10\n",
    "\n",
    "# set up numpy array for storing results\n",
    "crossvalidation_results = np.zeros((N_FOLDS, len(classifier_names)))\n",
    "\n",
    "# kf, object,  model selection kfold split set up\n",
    "kf = KFold(n_splits = N_FOLDS, shuffle=False, random_state = RANDOM_SEED)\n",
    "\n",
    "#--check the splitting process by looking at fold observation counts--\n",
    "# fold count initialized to zero\n",
    "index_for_fold = 0"
   ]
  },
  {
   "cell_type": "code",
   "execution_count": 97,
   "metadata": {},
   "outputs": [
    {
     "name": "stdout",
     "output_type": "stream",
     "text": [
      "\n",
      "Fold index: 0 ------------------------------------------\n",
      "\n",
      "Shape of input data for this fold: \n",
      "Data Set: (Observations, Variables)\n",
      "X_train: (4068, 3)\n",
      "X_test: (453, 3)\n",
      "y_train: (4068,)\n",
      "y_test: (453,)\n",
      "\n",
      "Classifier evaluation for: Logistic_Regression\n",
      "  Scikit Learn method: LogisticRegression(C=1.0, class_weight=None, dual=False, fit_intercept=True,\n",
      "                   intercept_scaling=1, l1_ratio=None, max_iter=100,\n",
      "                   multi_class='warn', n_jobs=None, penalty='l2',\n",
      "                   random_state=None, solver='warn', tol=0.0001, verbose=0,\n",
      "                   warm_start=False)\n",
      "Area under ROC curve: 0.5634307903152124\n",
      "\n",
      "Classifier evaluation for: Naive_Bayes\n",
      "  Scikit Learn method: BernoulliNB(alpha=1.0, binarize=0.5, class_prior=[0.5, 0.5], fit_prior=False)\n",
      "Area under ROC curve: 0.5634307903152124\n",
      "\n",
      "Fold index: 1 ------------------------------------------\n",
      "\n",
      "Shape of input data for this fold: \n",
      "Data Set: (Observations, Variables)\n",
      "X_train: (4069, 3)\n",
      "X_test: (452, 3)\n",
      "y_train: (4069,)\n",
      "y_test: (452,)\n",
      "\n",
      "Classifier evaluation for: Logistic_Regression\n",
      "  Scikit Learn method: LogisticRegression(C=1.0, class_weight=None, dual=False, fit_intercept=True,\n",
      "                   intercept_scaling=1, l1_ratio=None, max_iter=100,\n",
      "                   multi_class='warn', n_jobs=None, penalty='l2',\n",
      "                   random_state=None, solver='warn', tol=0.0001, verbose=0,\n",
      "                   warm_start=False)\n",
      "Area under ROC curve: 0.6296343537414966\n",
      "\n",
      "Classifier evaluation for: Naive_Bayes\n",
      "  Scikit Learn method: BernoulliNB(alpha=1.0, binarize=0.5, class_prior=[0.5, 0.5], fit_prior=False)\n",
      "Area under ROC curve: 0.6296343537414966\n",
      "\n",
      "Fold index: 2 ------------------------------------------\n",
      "\n",
      "Shape of input data for this fold: \n",
      "Data Set: (Observations, Variables)\n",
      "X_train: (4069, 3)\n",
      "X_test: (452, 3)\n",
      "y_train: (4069,)\n",
      "y_test: (452,)\n",
      "\n",
      "Classifier evaluation for: Logistic_Regression\n",
      "  Scikit Learn method: LogisticRegression(C=1.0, class_weight=None, dual=False, fit_intercept=True,\n",
      "                   intercept_scaling=1, l1_ratio=None, max_iter=100,\n",
      "                   multi_class='warn', n_jobs=None, penalty='l2',\n",
      "                   random_state=None, solver='warn', tol=0.0001, verbose=0,\n",
      "                   warm_start=False)\n",
      "Area under ROC curve: 0.6626488095238094\n",
      "\n",
      "Classifier evaluation for: Naive_Bayes\n",
      "  Scikit Learn method: BernoulliNB(alpha=1.0, binarize=0.5, class_prior=[0.5, 0.5], fit_prior=False)\n",
      "Area under ROC curve: 0.6626488095238094\n",
      "\n",
      "Fold index: 3 ------------------------------------------\n",
      "\n",
      "Shape of input data for this fold: \n",
      "Data Set: (Observations, Variables)\n",
      "X_train: (4069, 3)\n",
      "X_test: (452, 3)\n",
      "y_train: (4069,)\n",
      "y_test: (452,)\n",
      "\n",
      "Classifier evaluation for: Logistic_Regression\n",
      "  Scikit Learn method: LogisticRegression(C=1.0, class_weight=None, dual=False, fit_intercept=True,\n",
      "                   intercept_scaling=1, l1_ratio=None, max_iter=100,\n",
      "                   multi_class='warn', n_jobs=None, penalty='l2',\n",
      "                   random_state=None, solver='warn', tol=0.0001, verbose=0,\n",
      "                   warm_start=False)\n",
      "Area under ROC curve: 0.6147502670940171\n",
      "\n",
      "Classifier evaluation for: Naive_Bayes\n",
      "  Scikit Learn method: BernoulliNB(alpha=1.0, binarize=0.5, class_prior=[0.5, 0.5], fit_prior=False)\n",
      "Area under ROC curve: 0.6147502670940171\n",
      "\n",
      "Fold index: 4 ------------------------------------------\n",
      "\n",
      "Shape of input data for this fold: \n",
      "Data Set: (Observations, Variables)\n",
      "X_train: (4069, 3)\n",
      "X_test: (452, 3)\n",
      "y_train: (4069,)\n",
      "y_test: (452,)\n",
      "\n",
      "Classifier evaluation for: Logistic_Regression\n",
      "  Scikit Learn method: LogisticRegression(C=1.0, class_weight=None, dual=False, fit_intercept=True,\n",
      "                   intercept_scaling=1, l1_ratio=None, max_iter=100,\n",
      "                   multi_class='warn', n_jobs=None, penalty='l2',\n",
      "                   random_state=None, solver='warn', tol=0.0001, verbose=0,\n",
      "                   warm_start=False)\n",
      "Area under ROC curve: 0.6609684405940595\n",
      "\n",
      "Classifier evaluation for: Naive_Bayes\n",
      "  Scikit Learn method: BernoulliNB(alpha=1.0, binarize=0.5, class_prior=[0.5, 0.5], fit_prior=False)\n",
      "Area under ROC curve: 0.6609684405940595\n",
      "\n",
      "Fold index: 5 ------------------------------------------\n",
      "\n",
      "Shape of input data for this fold: \n",
      "Data Set: (Observations, Variables)\n",
      "X_train: (4069, 3)\n",
      "X_test: (452, 3)\n",
      "y_train: (4069,)\n",
      "y_test: (452,)\n",
      "\n",
      "Classifier evaluation for: Logistic_Regression\n",
      "  Scikit Learn method: LogisticRegression(C=1.0, class_weight=None, dual=False, fit_intercept=True,\n",
      "                   intercept_scaling=1, l1_ratio=None, max_iter=100,\n",
      "                   multi_class='warn', n_jobs=None, penalty='l2',\n",
      "                   random_state=None, solver='warn', tol=0.0001, verbose=0,\n",
      "                   warm_start=False)\n",
      "Area under ROC curve: 0.5763911151820471\n",
      "\n",
      "Classifier evaluation for: Naive_Bayes\n",
      "  Scikit Learn method: BernoulliNB(alpha=1.0, binarize=0.5, class_prior=[0.5, 0.5], fit_prior=False)\n",
      "Area under ROC curve: 0.5763911151820471\n",
      "\n",
      "Fold index: 6 ------------------------------------------\n",
      "\n",
      "Shape of input data for this fold: \n",
      "Data Set: (Observations, Variables)\n",
      "X_train: (4069, 3)\n",
      "X_test: (452, 3)\n",
      "y_train: (4069,)\n",
      "y_test: (452,)\n",
      "\n",
      "Classifier evaluation for: Logistic_Regression\n",
      "  Scikit Learn method: LogisticRegression(C=1.0, class_weight=None, dual=False, fit_intercept=True,\n",
      "                   intercept_scaling=1, l1_ratio=None, max_iter=100,\n",
      "                   multi_class='warn', n_jobs=None, penalty='l2',\n",
      "                   random_state=None, solver='warn', tol=0.0001, verbose=0,\n",
      "                   warm_start=False)\n",
      "Area under ROC curve: 0.6039075219798111\n",
      "\n",
      "Classifier evaluation for: Naive_Bayes\n",
      "  Scikit Learn method: BernoulliNB(alpha=1.0, binarize=0.5, class_prior=[0.5, 0.5], fit_prior=False)\n",
      "Area under ROC curve: 0.6039075219798111\n",
      "\n",
      "Fold index: 7 ------------------------------------------\n",
      "\n",
      "Shape of input data for this fold: \n",
      "Data Set: (Observations, Variables)\n",
      "X_train: (4069, 3)\n",
      "X_test: (452, 3)\n",
      "y_train: (4069,)\n",
      "y_test: (452,)\n",
      "\n",
      "Classifier evaluation for: Logistic_Regression\n",
      "  Scikit Learn method: LogisticRegression(C=1.0, class_weight=None, dual=False, fit_intercept=True,\n",
      "                   intercept_scaling=1, l1_ratio=None, max_iter=100,\n",
      "                   multi_class='warn', n_jobs=None, penalty='l2',\n",
      "                   random_state=None, solver='warn', tol=0.0001, verbose=0,\n",
      "                   warm_start=False)\n",
      "Area under ROC curve: 0.5671182266009852\n",
      "\n",
      "Classifier evaluation for: Naive_Bayes\n",
      "  Scikit Learn method: BernoulliNB(alpha=1.0, binarize=0.5, class_prior=[0.5, 0.5], fit_prior=False)\n",
      "Area under ROC curve: 0.5692600128507176\n",
      "\n",
      "Fold index: 8 ------------------------------------------\n",
      "\n",
      "Shape of input data for this fold: \n",
      "Data Set: (Observations, Variables)\n",
      "X_train: (4069, 3)\n",
      "X_test: (452, 3)\n",
      "y_train: (4069,)\n",
      "y_test: (452,)\n",
      "\n",
      "Classifier evaluation for: Logistic_Regression\n",
      "  Scikit Learn method: LogisticRegression(C=1.0, class_weight=None, dual=False, fit_intercept=True,\n",
      "                   intercept_scaling=1, l1_ratio=None, max_iter=100,\n",
      "                   multi_class='warn', n_jobs=None, penalty='l2',\n",
      "                   random_state=None, solver='warn', tol=0.0001, verbose=0,\n",
      "                   warm_start=False)\n",
      "Area under ROC curve: 0.6035579407672432\n",
      "\n",
      "Classifier evaluation for: Naive_Bayes\n",
      "  Scikit Learn method: BernoulliNB(alpha=1.0, binarize=0.5, class_prior=[0.5, 0.5], fit_prior=False)\n",
      "Area under ROC curve: 0.6035579407672432\n",
      "\n",
      "Fold index: 9 ------------------------------------------\n",
      "\n",
      "Shape of input data for this fold: \n",
      "Data Set: (Observations, Variables)\n",
      "X_train: (4069, 3)\n",
      "X_test: (452, 3)\n",
      "y_train: (4069,)\n",
      "y_test: (452,)\n",
      "\n",
      "Classifier evaluation for: Logistic_Regression\n",
      "  Scikit Learn method: LogisticRegression(C=1.0, class_weight=None, dual=False, fit_intercept=True,\n",
      "                   intercept_scaling=1, l1_ratio=None, max_iter=100,\n",
      "                   multi_class='warn', n_jobs=None, penalty='l2',\n",
      "                   random_state=None, solver='warn', tol=0.0001, verbose=0,\n",
      "                   warm_start=False)\n",
      "Area under ROC curve: 0.596756803381205\n",
      "\n",
      "Classifier evaluation for: Naive_Bayes\n",
      "  Scikit Learn method: BernoulliNB(alpha=1.0, binarize=0.5, class_prior=[0.5, 0.5], fit_prior=False)\n",
      "Area under ROC curve: 0.596756803381205\n"
     ]
    }
   ],
   "source": [
    "# splits the data, fits the classifier models, returns the crossvalidation\n",
    "# results\n",
    "for train_index, test_index in kf.split(model_data):\n",
    "    print('\\nFold index:', index_for_fold,\n",
    "          '------------------------------------------')\n",
    "    # 0:model_data.shape[1]-1 slices for explanatory variables,\n",
    "    X_train = model_data[train_index, 0:model_data.shape[1]-1]\n",
    "    X_test = model_data[test_index, 0:model_data.shape[1]-1]\n",
    "    \n",
    "    # model_data.shape[1]-1 is the index for the response variable\n",
    "    y_train = model_data[train_index, model_data.shape[1]-1]\n",
    "    y_test = model_data[test_index, model_data.shape[1]-1]\n",
    "    \n",
    "    # prints structure of data after split for x, y \n",
    "    print('\\nShape of input data for this fold:',\n",
    "          '\\nData Set: (Observations, Variables)')\n",
    "    print('X_train:', X_train.shape)\n",
    "    print('X_test:',X_test.shape)\n",
    "    print('y_train:', y_train.shape)\n",
    "    print('y_test:',y_test.shape)\n",
    "    \n",
    "    # index for method initialized to zero\n",
    "    index_for_method = 0\n",
    "    \n",
    "    # loops through classifiers\n",
    "    # fits the respective model\n",
    "    # performs predictions\n",
    "    for name, clf in zip(classifier_names, classifiers):\n",
    "        print('\\nClassifier evaluation for:', name)\n",
    "        print('  Scikit Learn method:', clf)\n",
    "        \n",
    "         # fit current classifier model using train data set\n",
    "        clf.fit(X_train, y_train) \n",
    "        \n",
    "        # calculate predictions to evaluate, using test set for this fold\n",
    "        y_test_predict = clf.predict_proba(X_test)\n",
    "        \n",
    "        # calculates ROC AUC score, stores results in cv_results\n",
    "        fold_method_result = roc_auc_score(y_test, y_test_predict[:,1]) \n",
    "        print('Area under ROC curve:', fold_method_result)\n",
    "        crossvalidation_results[index_for_fold, index_for_method] = fold_method_result\n",
    "        \n",
    "        \n",
    "        # adds one to the index, next loop will be the next classifier\n",
    "        index_for_method += 1\n",
    "        \n",
    "    # adds one to the index, next loop will be the next split in fold    \n",
    "    index_for_fold += 1"
   ]
  },
  {
   "cell_type": "code",
   "execution_count": 98,
   "metadata": {},
   "outputs": [],
   "source": [
    "# pandas DataFrame gets assigned cross fold evaluation results\n",
    "crossvalidation_results_df = pd.DataFrame(crossvalidation_results)\n",
    "crossvalidation_results_df.columns = classifier_names\n",
    "with open(\"cv-results-df.txt\", \"w\") as text_file:\n",
    "    text_file.write('\\nResults from '+ str(N_FOLDS) + '-fold cross-validation\\n'+\n",
    "                     '\\nMethod Area under ROC Curve:\\n'+ \n",
    "                     str(crossvalidation_results_df))"
   ]
  },
  {
   "cell_type": "code",
   "execution_count": 99,
   "metadata": {},
   "outputs": [
    {
     "name": "stdout",
     "output_type": "stream",
     "text": [
      "\n",
      "----------------------------------------------\n",
      "\n",
      "Average results from 10-fold cross-validation\n",
      "\n",
      "Method Area under ROC Curve:\n",
      "Logistic_Regression    0.607916\n",
      "Naive_Bayes            0.608131\n",
      "dtype: float64\n",
      "\n",
      "Mean of cross validation result:\n",
      "Logistic_Regression    0.607916\n",
      "Naive_Bayes            0.608131\n",
      "dtype: float64\n"
     ]
    }
   ],
   "source": [
    "# print mean of ROC AUC evaluation results for each classifier, saves to file\n",
    "print('\\n----------------------------------------------')\n",
    "print('\\nAverage results from {}-fold cross-validation\\n\\nMethod Area under ROC Curve:\\n{}'\n",
    "      .format(str(N_FOLDS),str(crossvalidation_results_df.mean())), sep = '')     \n",
    "print('\\nMean of cross validation result:\\n{}'.format(crossvalidation_results_df.mean())) \n",
    "with open(\"cv-results-df-mean.txt\", \"w\") as text_file:\n",
    "    text_file.write('\\nAverage results from {}-fold cross-validation\\n\\nMethod Area under ROC Curve:\\n{}'\n",
    "                    .format(str(N_FOLDS),str(crossvalidation_results_df.mean())))\n"
   ]
  },
  {
   "cell_type": "code",
   "execution_count": null,
   "metadata": {},
   "outputs": [],
   "source": []
  }
 ],
 "metadata": {
  "kernelspec": {
   "display_name": "Python 3",
   "language": "python",
   "name": "python3"
  },
  "language_info": {
   "codemirror_mode": {
    "name": "ipython",
    "version": 3
   },
   "file_extension": ".py",
   "mimetype": "text/x-python",
   "name": "python",
   "nbconvert_exporter": "python",
   "pygments_lexer": "ipython3",
   "version": "3.7.4"
  }
 },
 "nbformat": 4,
 "nbformat_minor": 2
}
